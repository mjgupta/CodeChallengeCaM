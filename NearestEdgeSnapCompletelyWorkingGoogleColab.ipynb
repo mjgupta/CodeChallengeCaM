import numpy as np
import cv2
from google.colab import files


uploaded = files.upload()

for fn in uploaded.keys():
  print('User uploaded file "{name}" with length {length} bytes'.format(
      name=fn, length=len(uploaded[fn])))


from google.colab.patches import cv2_imshow


img= cv2.imread('leyli-nova-gd0qpyteVFY-unsplash.jpg', 0)
cv2.imwrite("canny.jpg", cv2.Canny(img, 100,200))
img = cv2.imread("canny.jpg" ,0)


img.shape
cv2_imshow(img)
import math
rows=img.shape[0]
cols=img.shape[1]
setX = 2500 #input("Enter X coordinate")
setY = 50 #input("Enter Y coordinate")
min_dist=math.sqrt(cols**2+rows**2)
listX=[]
listY=[]
for x in range(0, rows-1):
    for y in range(0, cols-1):
        if img[x,y]!= 0 :
            dist = math.sqrt((x-setX)**2 + (y-setY)**2)
            if dist < min_dist:
                min_dist=dist
                listX=[x+1]
                listY=[y+1]
            elif dist == min_dist:
                listX.append(x+1)
                listY.append(y+1)

for i in range(len(listX)):
    print( '(' , listX[i] , ',' , listY[i] , ')' )
    print('\n')
img = cv2.cvtColor(img, cv2.COLOR_GRAY2BGR)
cv2.circle(img, (setY , setX ), 10, (255,0,0), thickness=5)
#img[setY, setX] = [0,255,0]
cv2.circle(img, (listY[0], listX[0]), 10, (0,255,0), thickness=5)
#img[listX[0], listY[0]] = [0,0,255]
cv2_imshow(img)
